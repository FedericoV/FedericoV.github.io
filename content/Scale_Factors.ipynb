{
 "cells": [
  {
   "cell_type": "markdown",
   "metadata": {},
   "source": [
    "Relative Measurements:\n",
    "----------------------\n",
    "\n",
    "\n",
    "When calibrating a model to data, it's common to only have access to relative measurements.  For example, instead of having absolute protein levels in units of uM, your only measure of protein abundance is intensity of bands in\n",
    "[western blots](http://en.wikipedia.org/wiki/Western_blot).  Other common examples are relative abundance measurements from mass spectrometry, counts from photodetectors, or RNA abundance from RNAseq, etc...\n",
    "\n",
    "For example, here is what a western block (**column A**) looks like with its relative quantification (**column B**):\n",
    "\n",
    "![img](https://openi.nlm.nih.gov/imgs/512/33/3815147/PMC3815147_pone.0079073.g004.png?keywords=sd)\n",
    "\n",
    "(taken from: https://openi.nlm.nih.gov/detailedresult.php?img=PMC3815147_pone.0079073.g004&req=4)."
   ]
  },
  {
   "cell_type": "markdown",
   "metadata": {
    "collapsed": false
   },
   "source": [
    "Calibrating Models with Data in Arbitrary Units:\n",
    "------------------------------------------------\n",
    "\n",
    "\n",
    "How can we use this data (in arbitrary units) to calibrate a model where the quantities have specific physical meaning?  In an ideal case, we can do additional experiments and build calibration curves to calculate the conversion factor between protein levels and the intensity of bands in western blots, but this is not always possible.  Alternatively, we can make our models completely [dimensionless](https://en.wikipedia.org/wiki/Nondimensionalization) by rescaling all quantities in our model by appropriately chosen constants.  \n",
    "\n",
    "A third option is to use scaling factors.  To do this, we assume that in the range in which we are interested, the amount of signal measured by our instrument is linearly proportional to the amount of protein/RNA.  In practice, the relationship usually follows a saturation curve, which can be described by something like a [Hill function](https://en.wikipedia.org/wiki/Hill_equation_%28biochemistry%29).  The Hill Function is probably my 2nd favorite case of a mathematical formula being invented by someone with the perfect name - the undisputed first is still the [Poynting vector](https://en.wikipedia.org/wiki/Poynting_vector) which does exactly what the name suggests.\n",
    "\n"
   ]
  },
  {
   "cell_type": "markdown",
   "metadata": {},
   "source": [
    "Linearizing Saturation Curves:\n",
    "------------------------------\n",
    "\n",
    "Fortunately, a saturation curve with a large exponent can be approximated by a linear fit quite accurately, as long as we are careful to make sure our measurements are done in the correct range."
   ]
  },
  {
   "cell_type": "code",
   "execution_count": 1,
   "metadata": {
    "collapsed": false
   },
   "outputs": [],
   "source": [
    "import autograd.numpy as np\n",
    "from autograd import grad\n",
    "import matplotlib.pyplot as plt\n",
    "%matplotlib inline\n",
    "\n",
    "\n",
    "def hill(L, Km, Vmax, n):\n",
    "    \"\"\"\n",
    "    Standard Hill function\"\"\"\n",
    "    numerator = Vmax*(L**n)\n",
    "    denominator = Km**n + L**n\n",
    "    \n",
    "    return numerator/denominator\n",
    "\n",
    "# To calculate the gradient of the Hill function (with respect to L) we use autograd.\n",
    "hill_grad = grad(hill)"
   ]
  },
  {
   "cell_type": "code",
   "execution_count": 2,
   "metadata": {
    "collapsed": false
   },
   "outputs": [],
   "source": [
    "L = np.linspace(0, 1.5, 100)\n",
    "Km = 0.5\n",
    "Vmax = 1\n",
    "n = 5\n",
    "\n",
    "v = hill(L, Km, Vmax, n)\n",
    "\n",
    "# Evaluate the gradient at 0.5 wrt L\n",
    "dv_dl = hill_grad(0.5, Km, Vmax, n)\n",
    "\n",
    "# Approximate the Hill function as a linear equation using a 1st order Taylor series:\n",
    "v_approx = hill(0.5, Km, Vmax, n) + (L-0.5) * dv_dl"
   ]
  },
  {
   "cell_type": "code",
   "execution_count": 3,
   "metadata": {
    "collapsed": false
   },
   "outputs": [
    {
     "data": {
      "text/plain": [
       "(0, 1)"
      ]
     },
     "execution_count": 3,
     "metadata": {},
     "output_type": "execute_result"
    },
    {
     "data": {
      "image/png": "[encoded data removed]",
      "text/plain": [
       "<matplotlib.figure.Figure at 0x7f9f94bd23d0>"
      ]
     },
     "metadata": {},
     "output_type": "display_data"
    }
   ],
   "source": [
    "fig = plt.figure()\n",
    "ax = fig.add_subplot(111)\n",
    "\n",
    "ax.plot(L, v, label='Hill Function')\n",
    "ax.plot(L, v_approx, 'r', label='First Order Taylor Series')\n",
    "\n",
    "ax.legend(loc='best')\n",
    "ax.set_ylim(0, 1)"
   ]
  },
  {
   "cell_type": "markdown",
   "metadata": {},
   "source": [
    "Example Problem: Actin Polymerization\n",
    "-------------------------------------\n",
    "\n",
    "Let's say we want to model the [polymerization of actin](https://en.wikipedia.org/wiki/Actin#Assembly_dynamics) from barbed ends *in-vitro*.  This is described by a very simple differential equation:\n",
    "\n",
    "$\\frac{dFa(t)}{dt} = k_{on}*N_b*Ga(t) - k_{off}*N_b$\n",
    "\n",
    "where $Fa$ is the amount of filamentous (polymerized) actin, $Ga$ is the amount of globular (soluble) actin, $N_b$ is the amount of barbed ends (filaments from which actin can grow) and $k_{on} , k_{off}$ are the 1st and 0th order binding and unbinding parameters.  If we are working in a system with excess ATP, and where the total amount of actin is conserved ($At = Fa + Ga$), this has an exact analytical solution, which we could solve using integrating factors - or, since we are lazy, just using SymPy."
   ]
  },
  {
   "cell_type": "code",
   "execution_count": 4,
   "metadata": {
    "collapsed": true
   },
   "outputs": [],
   "source": [
    "from sympy import *\n",
    "init_printing()"
   ]
  },
  {
   "cell_type": "code",
   "execution_count": 5,
   "metadata": {
    "collapsed": false
   },
   "outputs": [],
   "source": [
    "At, Nb, k_on, k_off, t = symbols('At Nb k_on k_off t', positive=True)\n",
    "Fa = Function('Fa')(t)\n",
    "Ga = At - Fa"
   ]
  },
  {
   "cell_type": "code",
   "execution_count": 6,
   "metadata": {
    "collapsed": false
   },
   "outputs": [
    {
     "data": {
      "image/png": "[encoded data removed]",
      "text/latex": [
       "$$\\operatorname{Fa}{\\left (t \\right )} = \\frac{1}{k_{on}} \\left(At k_{on} - k_{off} + e^{k_{on} \\left(C_{1} - Nb t\\right)}\\right)$$"
      ],
      "text/plain": [
       "                           k_on⋅(C₁ - Nb⋅t)\n",
       "        At⋅k_on - k_off + ℯ                \n",
       "Fa(t) = ───────────────────────────────────\n",
       "                        k_on               "
      ]
     },
     "execution_count": 6,
     "metadata": {},
     "output_type": "execute_result"
    }
   ],
   "source": [
    "eq = Eq(k_on*Ga*Nb - k_off*Nb, diff(Fa, t))\n",
    "sol = dsolve(eq)\n",
    "sol.simplify()"
   ]
  },
  {
   "cell_type": "markdown",
   "metadata": {},
   "source": [
    "This solution has an integration constant.  Assume that Fa(0) = 0 (meaning, at time zero, all actin is in soluble form)"
   ]
  },
  {
   "cell_type": "code",
   "execution_count": 7,
   "metadata": {
    "collapsed": false
   },
   "outputs": [],
   "source": [
    "#Solve for initial condition of 0 F-Actin at t=0\n",
    "initial_cond = solve(sol.rhs.subs(t, 0), 'C1')[0]\n",
    "sol = sol.rhs.subs('C1', initial_cond)\n",
    "\n",
    "fact_timecourse = lambdify([At, k_off, k_on, Nb, t],\n",
    "                           sol.simplify(), modules='numpy')\n",
    "\n",
    "# We take advantage of SymPy again to obtain the gradient\n",
    "# of the function wrt the number of barbed ends\n",
    "fact_grad = lambdify([At, k_off, k_on, Nb, t],\n",
    "                     diff(sol, Nb).simplify(), modules='numpy')"
   ]
  },
  {
   "cell_type": "code",
   "execution_count": 8,
   "metadata": {
    "collapsed": false
   },
   "outputs": [
    {
     "data": {
      "text/plain": [
       "<matplotlib.text.Text at 0x7f9f6c912290>"
      ]
     },
     "execution_count": 8,
     "metadata": {},
     "output_type": "execute_result"
    },
    {
     "data": {
      "image/png": "[encoded data removed]",
      "text/plain": [
       "<matplotlib.figure.Figure at 0x7f9f6c9fe150>"
      ]
     },
     "metadata": {},
     "output_type": "display_data"
    }
   ],
   "source": [
    "timesteps = np.linspace(0.01, 10000)\n",
    "simulation = fact_timecourse(2, 0.8, 11.6, 0.0001, timesteps).ravel()\n",
    "\n",
    "fig = plt.figure()\n",
    "ax = fig.add_subplot(111)\n",
    "ax.plot(timesteps, simulation)\n",
    "ax.set_xlabel('Time')\n",
    "ax.set_ylabel('F-Actin')"
   ]
  },
  {
   "cell_type": "markdown",
   "metadata": {},
   "source": [
    "What if we didn't actually know the number of barbed ends in solution, and wanted to estimate it on the basis of F-Actin time course data?  That's very easy using SciPy and SymPy!\n",
    "\n",
    "This is just a simple least squares minimization problem:\n",
    "\n",
    "$\\underset{x}{\\arg\\min} \\sum_i(F(x)_i - y_i)^2$\n",
    "\n",
    "Where $F(x)_i$ is our simulation of actin dynamics, $x$ is our unknown parameter (in this case, the number of barbed ends - we presume we know everything else) and $y_i$ is the experimental data."
   ]
  },
  {
   "cell_type": "code",
   "execution_count": 9,
   "metadata": {
    "collapsed": false
   },
   "outputs": [
    {
     "data": {
      "text/plain": [
       "array([ 0.0001])"
      ]
     },
     "execution_count": 9,
     "metadata": {},
     "output_type": "execute_result"
    }
   ],
   "source": [
    "def fact_residuals(p, data):\n",
    "    '''\n",
    "    Returns the residuals between the simulation calculated\n",
    "    with nb == p[0] and the original simulation with the known\n",
    "    value of nb\n",
    "    '''\n",
    "    nb = p[0]\n",
    "    new_sim = fact_timecourse(2, 0.8, 11.6, nb, timesteps).ravel()\n",
    "    residuals = new_sim - data\n",
    "    return residuals\n",
    "\n",
    "\n",
    "def fact_jac(p, data):\n",
    "    '''\n",
    "    Returns the jacobian: The gradient at every timestep\n",
    "    with respect to nb.  Since we are only optimizing a\n",
    "    single parameter, this has an extra axis.'''\n",
    "    nb = p[0]\n",
    "    return fact_grad(2, 0.8, 11.6, nb, timesteps).reshape(-1, 1)\n",
    "    \n",
    "from scipy.optimize import leastsq\n",
    "\n",
    "out = leastsq(fact_residuals, 0.2, args=(simulation,), full_output=True,\n",
    "              col_deriv=True, Dfun=fact_jac)\n",
    "\n",
    "out[0]"
   ]
  },
  {
   "cell_type": "markdown",
   "metadata": {},
   "source": [
    "Working with arbitrary units:\n",
    "------------------------------\n",
    "\n",
    "\n",
    "But, suppose that instead of having $y_i$ in units of concentration, we measure $y_i$ using a fluorescence assay and our units are arbitrary.  In practice, actin polymerization is almost always measured using [pyrene](https://en.wikipedia.org/wiki/Pyrene) actin, a specially labeled form of actin that becomes fluorescent when it polymerizes.\n",
    "\n",
    "Now, we can no longer directly minimize the difference between our simulation and the experimental data, since our simulation is in units of concentration, and our measurents are in arbitrary units.  One option is to explicitly add a parameter to our model.  We can simply define a new function, $G(x)$:\n",
    "\n",
    "$G(x) = x[0] * f(x[1:])$\n",
    "\n",
    "which takes an extra parameter, and scales the simulation.  This however adds a parameter to the model, and, in my experience, makes parameter much slower.\n",
    "\n",
    "Implicit Scale Factors:\n",
    "-----------------------\n",
    "\n",
    "An alternative way is to write out the minimization like so (we are assuming [homoscedasticity](https://en.wikipedia.org/wiki/Homoscedasticity) to simplify the expression and ignore the variance of each individual point):\n",
    "\n",
    "$\\underset{x}{\\arg\\min}  \\bigg| \\sum_i (\\beta F(x)_i - y_i)  \\bigg|_2$\n",
    "\n",
    "At this point - we notice that, for a given set of parameters $x$, our loss function implicitly defines an optimal scaling factor $\\beta$ - it's the scaling factor that minimizes the residuals, given a simulation $F(x)$ and data $y$.\n",
    "\n",
    "To find the optimal scale factor, we derive our loss function with respect to $\\beta$\n",
    "\n",
    "$$\n",
    "\\frac{d} {d \\beta} \\bigg| \\sum_i (\\beta F(x)_i - y_i)  \\bigg|_2 = 0 \\\\\n",
    "$$\n",
    "\n",
    " and solve (the best reference I've found for this is [Ryan Gutenkust's PhD thesis](http://www.lassp.cornell.edu/sethna/pubPDF/GutenkunstPhD.pdf) and the corresponding implementation in [SloppyCell](https://sourceforge.net/p/sloppycell/git/ci/master/tree/Model_mod.py#l568):\n",
    " \n",
    "$$\n",
    "\\beta = \\frac{\\sum_i F(x)_i y_i }{\\sum_i F(x)_i^2 } \\\\\n",
    "$$\n",
    "\n",
    "Updating the Jacobian:\n",
    "----------------------\n",
    "\n",
    "However, now when we calculate the Jacobian, we also have to consider the effect that varying the parameter will have on the scaling factor:\n",
    "\n",
    "$$\n",
    "\\frac{d}{dx} (\\beta(x) F(x)) = \\frac{d\\beta(x)}{dx}F(x) + \\frac{dF(x)}{dx}\\beta(x)\n",
    "$$\n",
    "\n",
    "$ \\frac{dF(x)}{dx}$ is the old Jacobian.  Now we need to calculate $\\frac{d\\beta(x)}{dx}$.  To obtain that, we derive the equation for $\\beta$ with respect to $x$.\n",
    "\n",
    "$$\n",
    "\\frac{d\\beta}{dx} = \\frac{d}{dx}  \\frac{ \\sum_i \\frac{dF(x)_i}{dx} y_i}{ \\sum_i F(x)_i^2}\n",
    "$$"
   ]
  },
  {
   "cell_type": "markdown",
   "metadata": {},
   "source": [
    "Let's write a quick and dirty implementation of the different functions."
   ]
  },
  {
   "cell_type": "code",
   "execution_count": 10,
   "metadata": {
    "collapsed": false
   },
   "outputs": [],
   "source": [
    "def calculate_sf(sim, data):\n",
    "    \"\"\"\n",
    "    Calculates the optimal scale factor (B) between\n",
    "    simulated and experimental data.\n",
    "    \"\"\"\n",
    "    sim_dot_exp = np.sum(sim * data)\n",
    "    sim_dot_sim = np.sum(sim * sim)\n",
    "    return sim_dot_exp / sim_dot_sim\n",
    "    \n",
    "def calculate_sf_grad(sim, data, sim_jac):\n",
    "    \"\"\"\n",
    "    Calculates the gradient of the scale factor \n",
    "    (dB/dx) with respect to the parameters being\n",
    "    optimized.\n",
    "    \"\"\"\n",
    "    sim_dot_exp = np.sum(sim * data)\n",
    "    sim_dot_sim = np.sum(sim * sim)\n",
    "    jac_dot_exp = np.sum(sim_jac.T * data, axis=1)\n",
    "    jac_dot_sim = np.sum(sim_jac.T * sim, axis=1)\n",
    "    \n",
    "    sf_grad = (jac_dot_exp / sim_dot_sim - 2 *  \\\n",
    "               (sim_dot_exp * jac_dot_sim) / (sim_dot_sim)**2)\n",
    "\n",
    "    return sf_grad\n",
    "\n",
    "def scaled_fact_residuals(p, data):\n",
    "    \"\"\"\n",
    "    Calculates the residuals between simulated data and\n",
    "    experimental data after scaling the simulations using\n",
    "    the scale factor.\n",
    "    \"\"\"\n",
    "    \n",
    "    nb = p[0]\n",
    "    new_sim = fact_timecourse(2, 0.8, 11.6, nb, timesteps).ravel()\n",
    "    beta = calculate_sf(new_sim, data)\n",
    "    residuals = beta*new_sim - data\n",
    "    \n",
    "    return residuals\n",
    "\n",
    "def scaled_fact_jac(p, data):\n",
    "    \"\"\"\n",
    "    Calculates the jacobian of the simulation with respect to the parameter\n",
    "    being optimized including the contribution of the scale factor:\n",
    "    \n",
    "    (d/dx B(x)F(x) = dB(x)/dx*F(x) + dF(x)/dx*B(x))\n",
    "    \"\"\"\n",
    "    nb = p[0]\n",
    "    \n",
    "    # We could write this using caching to avoid recalculating f(x) and B(x)\n",
    "    # In case we have already computed them with a given p\n",
    "    new_sim = fact_timecourse(2, 0.8, 11.6, nb, timesteps).ravel()\n",
    "    beta = calculate_sf(new_sim, data)\n",
    "    \n",
    "    jac = fact_grad(2, 0.8, 11.6, nb, timesteps).reshape(-1, 1)\n",
    "    beta_grad = calculate_sf_grad(new_sim, data, jac)\n",
    "    \n",
    "    return beta_grad*new_sim + (jac*beta).T\n"
   ]
  },
  {
   "cell_type": "markdown",
   "metadata": {},
   "source": [
    "Let's test to see if the scale factor calculation works as we expect:"
   ]
  },
  {
   "cell_type": "code",
   "execution_count": 11,
   "metadata": {
    "collapsed": false
   },
   "outputs": [
    {
     "name": "stdout",
     "output_type": "stream",
     "text": [
      "1.7\n"
     ]
    }
   ],
   "source": [
    "nb = 0.0001\n",
    "\n",
    "new_sim = fact_timecourse(2, 0.8, 11.6, nb, timesteps).ravel()\n",
    "\n",
    "scaled_measures = simulation*1.7\n",
    "sf = calculate_sf(new_sim, scaled_measures)\n",
    "\n",
    "print sf"
   ]
  },
  {
   "cell_type": "code",
   "execution_count": 12,
   "metadata": {
    "collapsed": false
   },
   "outputs": [
    {
     "data": {
      "text/plain": [
       "<matplotlib.legend.Legend at 0x7f9f6e2fb050>"
      ]
     },
     "execution_count": 12,
     "metadata": {},
     "output_type": "execute_result"
    },
    {
     "data": {
      "image/png": "[encoded data removed]",
      "text/plain": [
       "<matplotlib.figure.Figure at 0x7f9f6caec5d0>"
      ]
     },
     "metadata": {},
     "output_type": "display_data"
    }
   ],
   "source": [
    "plt.plot(timesteps, new_sim, label='unscaled_sim')\n",
    "plt.plot(timesteps, scaled_measures, 'r-', label='scaled_sim')\n",
    "plt.plot(timesteps, new_sim*sf, 'bo',\n",
    "         label='unscaled_sim*scale_factor')\n",
    "plt.legend(loc='best')"
   ]
  },
  {
   "cell_type": "markdown",
   "metadata": {},
   "source": [
    "Now, let's check to see if the optimization procedure works:"
   ]
  },
  {
   "cell_type": "code",
   "execution_count": 13,
   "metadata": {
    "collapsed": false
   },
   "outputs": [
    {
     "data": {
      "text/plain": [
       "array([ 0.0001])"
      ]
     },
     "execution_count": 13,
     "metadata": {},
     "output_type": "execute_result"
    }
   ],
   "source": [
    "init_guess = [0.1]\n",
    "out = leastsq(scaled_fact_residuals, init_guess,\n",
    "              args=(scaled_measures,),\n",
    "              full_output=True, col_deriv=True,\n",
    "              Dfun=scaled_fact_jac)\n",
    "out[0]"
   ]
  },
  {
   "cell_type": "markdown",
   "metadata": {},
   "source": [
    "It does!  We recover the correct number of barbed ends.  Note that this result applies for more complex minimization functions where you have multiple scale factors, or where $F(x)$ is only available implicitly - such as when numerically integrating a set of differential equations.  In practice, for any large optimization problem, calculating the scale factors will almost never be a significant slowdown: what will end up dominating the run time are either computing $F(x)$ and it's Jacobian $\\frac{dF(x)}{dx}$ or inverting the pseudo-Hessian inside the Levemberg-Marquardt algorithm.\n",
    "\n",
    "\n",
    "Numerical Considerations:\n",
    "---------------------------\n",
    "\n",
    "However, one problem (extensively discussed in Ryan's excellent PhD thesis) is that the presence of scale factors can cause numerical convergence issues - by pushing the parameters into regimes where numerical integration becomes very slow.  To solve this, Ryan proposes some relatively weak Bayesian priors on the scale factors and the parameters - which then allows us to use the LM algorithm to find the [MAP](https://en.wikipedia.org/wiki/Maximum_a_posteriori_estimation) solution.  Priors then play a dual role: they allow us to include some prior information about the likely range of parameters (although this is very minor: parameters in systems biology models are inherently [sloppy](http://www.lassp.cornell.edu/sethna/Sloppy/WhatAreSloppyModels.html)) and they make the estimation procedure more stable."
   ]
  }
 ],
 "metadata": {
  "kernelspec": {
   "display_name": "Python 2",
   "language": "python",
   "name": "python2"
  },
  "language_info": {
   "codemirror_mode": {
    "name": "ipython",
    "version": 2
   },
   "file_extension": ".py",
   "mimetype": "text/x-python",
   "name": "python",
   "nbconvert_exporter": "python",
   "pygments_lexer": "ipython2",
   "version": "2.7.11"
  }
 },
 "nbformat": 4,
 "nbformat_minor": 0
}
